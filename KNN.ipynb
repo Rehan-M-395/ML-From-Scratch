{
 "cells": [
  {
   "cell_type": "code",
   "execution_count": 5,
   "id": "8fb626a4-abe2-42a5-b2f6-d43fde4c2f77",
   "metadata": {},
   "outputs": [
    {
     "name": "stdout",
     "output_type": "stream",
     "text": [
      "Prediction: 1\n"
     ]
    }
   ],
   "source": [
    "import math\n",
    "from collections import Counter\n",
    "\n",
    "def KNN_algo(X_train, Y_train, X_test, K):\n",
    "    dist = []\n",
    "\n",
    "    # Euclidean distance function\n",
    "    def EuclideanDistance(test_point, train_point):\n",
    "        d1 = test_point[0] - train_point[0]\n",
    "        d2 = test_point[1] - train_point[1]\n",
    "        return math.sqrt(d1*d1 + d2*d2)\n",
    "\n",
    "    # calculate distances\n",
    "    for i in range(len(X_train)):\n",
    "        d = EuclideanDistance(X_test, X_train[i])\n",
    "        dist.append((d, i))  # store (distance, index)\n",
    "\n",
    "    # sort distances\n",
    "    dist.sort(key=lambda x: x[0])\n",
    "\n",
    "    # pick K nearest neighbors\n",
    "    k_near = dist[:K]\n",
    "\n",
    "    # get their labels\n",
    "    neighbor_labels = []\n",
    "    for (_, i) in k_near:\n",
    "        neighbor_labels.append(Y_train[i])\n",
    "\n",
    "    # calculating most frequency\n",
    "    prediction = Counter(neighbor_labels).most_common(1)[0][0]\n",
    "\n",
    "    return prediction\n",
    "\n",
    "\n",
    "X_train = [[1,2],[2,3],[3,4],[6,7],[7,8]]\n",
    "Y_train = [0,0,0,1,1]\n",
    "X_test = [7,7]\n",
    "K = 2\n",
    "\n",
    "result = KNN_algo(X_train, Y_train, X_test, K)\n",
    "print(\"Prediction:\", result)"
   ]
  },
  {
   "cell_type": "code",
   "execution_count": 1,
   "id": "880d8d75-50fb-4918-a606-e10c76fdca2c",
   "metadata": {},
   "outputs": [
    {
     "name": "stderr",
     "output_type": "stream",
     "text": [
      "ERROR: Could not find a version that satisfies the requirement math (from versions: none)\n",
      "\n",
      "[notice] A new release of pip is available: 25.1.1 -> 25.2\n",
      "[notice] To update, run: python.exe -m pip install --upgrade pip\n",
      "ERROR: No matching distribution found for math\n"
     ]
    }
   ],
   "source": []
  },
  {
   "cell_type": "code",
   "execution_count": null,
   "id": "b782ccd7-9742-4442-835e-3ccaff331ffb",
   "metadata": {},
   "outputs": [],
   "source": []
  }
 ],
 "metadata": {
  "kernelspec": {
   "display_name": "Python 3.10 (with sklearn)",
   "language": "python",
   "name": "python310"
  },
  "language_info": {
   "codemirror_mode": {
    "name": "ipython",
    "version": 3
   },
   "file_extension": ".py",
   "mimetype": "text/x-python",
   "name": "python",
   "nbconvert_exporter": "python",
   "pygments_lexer": "ipython3",
   "version": "3.10.0"
  }
 },
 "nbformat": 4,
 "nbformat_minor": 5
}
